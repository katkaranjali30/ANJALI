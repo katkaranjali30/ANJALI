{
 "cells": [
  {
   "cell_type": "code",
   "execution_count": 1,
   "metadata": {},
   "outputs": [
    {
     "name": "stdout",
     "output_type": "stream",
     "text": [
      "how long should your password be? 9\n",
      "This is your new password: zMwj&X9)o\n"
     ]
    }
   ],
   "source": [
    "import random\n",
    "characters = \"awertyuiosqpdfghjklzxcvbnmQWERTYUIOPASDFGHJKLZXCVBNM1234567890!@#$%^&*()_+\"\n",
    "\n",
    "# Get the length of the password, and cast it to an integer so it can be used in the for loop ahead\n",
    "length = int(input(\"how long should your password be? \"))\n",
    "\n",
    "def generatrandompaassword():\n",
    "    password = \"\"\n",
    "\n",
    "    # For every character in the password, get a random character and add that to the password\n",
    "    for i in range(length):\n",
    "        password += random.choice(characters)\n",
    "\n",
    "    return password\n",
    "\n",
    "# Get the password\n",
    "password = generatrandompaassword()\n",
    "print(\"This is your new password: \" + password)"
   ]
  },
  {
   "cell_type": "code",
   "execution_count": null,
   "metadata": {},
   "outputs": [],
   "source": []
  }
 ],
 "metadata": {
  "kernelspec": {
   "display_name": "Python 3",
   "language": "python",
   "name": "python3"
  },
  "language_info": {
   "codemirror_mode": {
    "name": "ipython",
    "version": 3
   },
   "file_extension": ".py",
   "mimetype": "text/x-python",
   "name": "python",
   "nbconvert_exporter": "python",
   "pygments_lexer": "ipython3",
   "version": "3.8.5"
  }
 },
 "nbformat": 4,
 "nbformat_minor": 4
}
