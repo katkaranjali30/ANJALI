{
 "cells": [
  {
   "cell_type": "code",
   "execution_count": 1,
   "metadata": {},
   "outputs": [
    {
     "name": "stdout",
     "output_type": "stream",
     "text": [
      "Enter the First Number: 5\n",
      "Enter the Second Number: 6\n",
      "5.0 + 6.0 = \n",
      "11.0\n"
     ]
    }
   ],
   "source": [
    "# Calculator Program in Python by using input() and format() functions\n",
    "\n",
    "#Promting input from the user\n",
    "\n",
    "n1 = float(input(\"Enter the First Number: \"))\n",
    "n2 = float(input(\"Enter the Second Number: \"))\n",
    "\n",
    "#addition\n",
    "\n",
    "print(\"{} + {} = \".format(n1, n2))\n",
    "print(n1 + n2)"
   ]
  },
  {
   "cell_type": "code",
   "execution_count": 2,
   "metadata": {},
   "outputs": [
    {
     "name": "stdout",
     "output_type": "stream",
     "text": [
      "5.0 - 6.0 = \n",
      "-1.0\n"
     ]
    }
   ],
   "source": [
    "#subtraction\n",
    "\n",
    "print(\"{} - {} = \".format(n1, n2))\n",
    "print(n1 - n2)\n"
   ]
  },
  {
   "cell_type": "code",
   "execution_count": 3,
   "metadata": {},
   "outputs": [
    {
     "name": "stdout",
     "output_type": "stream",
     "text": [
      "5.0 * 6.0 = \n",
      "30.0\n"
     ]
    }
   ],
   "source": [
    "#multiplication\n",
    "\n",
    "print(\"{} * {} = \".format(n1, n2))\n",
    "print(n1 * n2)"
   ]
  },
  {
   "cell_type": "code",
   "execution_count": 4,
   "metadata": {},
   "outputs": [
    {
     "name": "stdout",
     "output_type": "stream",
     "text": [
      "5.0 / 6.0 = \n",
      "0.8333333333333334\n"
     ]
    }
   ],
   "source": [
    "#division\n",
    "\n",
    "print(\"{} / {} = \".format(n1, n2))\n",
    "print(n1 / n2)"
   ]
  },
  {
   "cell_type": "code",
   "execution_count": null,
   "metadata": {},
   "outputs": [],
   "source": []
  }
 ],
 "metadata": {
  "kernelspec": {
   "display_name": "Python 3",
   "language": "python",
   "name": "python3"
  },
  "language_info": {
   "codemirror_mode": {
    "name": "ipython",
    "version": 3
   },
   "file_extension": ".py",
   "mimetype": "text/x-python",
   "name": "python",
   "nbconvert_exporter": "python",
   "pygments_lexer": "ipython3",
   "version": "3.8.5"
  }
 },
 "nbformat": 4,
 "nbformat_minor": 4
}
