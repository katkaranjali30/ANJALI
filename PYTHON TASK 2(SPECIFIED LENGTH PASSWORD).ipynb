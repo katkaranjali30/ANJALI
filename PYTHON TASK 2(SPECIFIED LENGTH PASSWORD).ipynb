{
 "cells": [
  {
   "cell_type": "code",
   "execution_count": 2,
   "metadata": {},
   "outputs": [
    {
     "name": "stdout",
     "output_type": "stream",
     "text": [
      "Input the desired length of your password:8\n",
      "Generated password is: b7hla[dp\n"
     ]
    }
   ],
   "source": [
    "import random\n",
    "import string\n",
    "def generate_password(length=8):\n",
    "    # Define the characters to use in the password\n",
    "    all_characters = string.ascii_letters + string.digits + string.punctuation\n",
    "    \n",
    "    # Use the random module to generate the password\n",
    "    password= ''.join(random.choice(all_characters) for i in range(length))\n",
    "    \n",
    "    return password\n",
    "\n",
    "password_length_str = input(\"Input the desired length of your password:\")\n",
    "if password_length_str:\n",
    "    password_length = int(password_length_str)\n",
    "else:\n",
    "    password_length = 8\n",
    "\n",
    "password = generate_password(password_length)\n",
    "print(f\"Generated password is: {password}\")"
   ]
  },
  {
   "cell_type": "code",
   "execution_count": null,
   "metadata": {},
   "outputs": [],
   "source": []
  }
 ],
 "metadata": {
  "kernelspec": {
   "display_name": "Python 3",
   "language": "python",
   "name": "python3"
  },
  "language_info": {
   "codemirror_mode": {
    "name": "ipython",
    "version": 3
   },
   "file_extension": ".py",
   "mimetype": "text/x-python",
   "name": "python",
   "nbconvert_exporter": "python",
   "pygments_lexer": "ipython3",
   "version": "3.8.5"
  }
 },
 "nbformat": 4,
 "nbformat_minor": 4
}
